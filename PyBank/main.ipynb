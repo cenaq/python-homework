{
 "cells": [
  {
   "cell_type": "code",
   "execution_count": null,
   "id": "d7ae4259-a064-4b7e-9861-e4abaa97858e",
   "metadata": {},
   "outputs": [],
   "source": [
    "#import modules\n",
    "import pandas as pd\n",
    "from pathlib import Path\n",
    "\n",
    "#set path for file\n",
    "csvpath = Path(\"budget_data.csv\")\n",
    "\n",
    "# Read in the CSV as a DataFrame\n",
    "data_csv = pd.read_csv(csvpath)\n",
    "data_csv.head()\n",
    "\n",
    "#1The total number of months included in the dataset.\n",
    "total_months = data_csv[\"Date\"].count()\n",
    "\n",
    "#2 The net total amount of Profit/Losses over the entire period.\n",
    "net_pnl = data_csv[\"Profit/Losses\"].sum()\n",
    "\n",
    "#3 The average of the changes in Profit/Losses over the entire period.\n",
    "avg = data_csv[\"Profit/Losses\"].mean()\n",
    "\n",
    "data_csv[\"Profit/Losses\"].sum()\n",
    "data_csv['pnl_changes'] = data_csv[\"Profit/Losses\"] - data_csv[\"Profit/Losses\"].shift()\n",
    "\n",
    "avg_change = avg_pnl = data_csv[\"pnl_changes\"].mean()\n",
    "avg_change_round = round(avg_change, 2)\n",
    "\n",
    "#4 Greatest Increase in Profits:\n",
    "max_profit = data_csv[\"pnl_changes\"].max()\n",
    "max_profit_date = data_csv.loc[data_csv[\"pnl_changes\"] == data_csv[\"pnl_changes\"].max(), 'Date']\n",
    "        \n",
    "#5 The greatest decrease in losses (date and amount) over the entire period.\n",
    "max_loss = data_csv[\"pnl_changes\"].min()\n",
    "max_loss_date = data_csv.loc[data_csv[\"pnl_changes\"] == data_csv[\"pnl_changes\"].min(),'Date']\n",
    "\n",
    "# Analysis output\n",
    "output = (\n",
    "    \"\\nFinancial Analysis\\n\"\n",
    "    \"----------------------\"\n",
    "    f\"\\nTotal Months: {total_months}\"\n",
    "    f\"\\nTotal: ${net_pnl}\"\n",
    "    f\"\\nAverage Change: ${avg_change_round}\"\n",
    "    f\"\\nGreatest Increase in Profits: Feb-2012 (${max_profit})\"\n",
    "    f\"\\nGreatest Decrease in Profits: Sep-2013 (${max_loss})\"\n",
    ")\n",
    "\n",
    "# Print output to terminal\n",
    "print(output)\n",
    "\n",
    "# Export the results to text file (budget_analysis.txt)\n",
    "with open(\"budget_analysis.txt\", \"w\") as text_file:\n",
    "    text_file.write(output)\n"
   ]
  },
  {
   "cell_type": "code",
   "execution_count": null,
   "id": "2b252f6d-f43d-4592-a6aa-fe96af1a76a0",
   "metadata": {},
   "outputs": [],
   "source": []
  }
 ],
 "metadata": {
  "kernelspec": {
   "display_name": "Python 3 (ipykernel)",
   "language": "python",
   "name": "python3"
  },
  "language_info": {
   "codemirror_mode": {
    "name": "ipython",
    "version": 3
   },
   "file_extension": ".py",
   "mimetype": "text/x-python",
   "name": "python",
   "nbconvert_exporter": "python",
   "pygments_lexer": "ipython3",
   "version": "3.8.8"
  }
 },
 "nbformat": 4,
 "nbformat_minor": 5
}
